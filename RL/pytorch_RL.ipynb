{
  "nbformat": 4,
  "nbformat_minor": 0,
  "metadata": {
    "colab": {
      "name": "pytorch_RL.ipynb",
      "version": "0.3.2",
      "provenance": [],
      "collapsed_sections": [],
      "include_colab_link": true
    },
    "kernelspec": {
      "name": "python3",
      "display_name": "Python 3"
    }
  },
  "cells": [
    {
      "cell_type": "markdown",
      "metadata": {
        "id": "view-in-github",
        "colab_type": "text"
      },
      "source": [
        "[View in Colaboratory](https://colab.research.google.com/github/hyerim1048/TodayILearned/blob/master/pytorch_RL.ipynb)"
      ]
    },
    {
      "metadata": {
        "id": "WAtHEVjH58II",
        "colab_type": "code",
        "colab": {
          "base_uri": "https://localhost:8080/",
          "height": 445
        },
        "outputId": "71a36973-1074-4343-e2da-778d9c6afc7b"
      },
      "cell_type": "code",
      "source": [
        "!pip3 install torch gym"
      ],
      "execution_count": 2,
      "outputs": [
        {
          "output_type": "stream",
          "text": [
            "Collecting torch\n",
            "\u001b[?25l  Downloading https://files.pythonhosted.org/packages/69/43/380514bd9663f1bf708abeb359b8b48d3fabb1c8e95bb3427a980a064c57/torch-0.4.0-cp36-cp36m-manylinux1_x86_64.whl (484.0MB)\n",
            "\u001b[K    100% |████████████████████████████████| 484.0MB 24kB/s \n",
            "tcmalloc: large alloc 1073750016 bytes == 0x5b354000 @  0x7fdea02271c4 0x46d6a4 0x5fcbcc 0x4c494d 0x54f3c4 0x553aaf 0x54e4c8 0x54f4f6 0x553aaf 0x54efc1 0x54f24d 0x553aaf 0x54efc1 0x54f24d 0x553aaf 0x54efc1 0x54f24d 0x551ee0 0x54e4c8 0x54f4f6 0x553aaf 0x54efc1 0x54f24d 0x551ee0 0x54efc1 0x54f24d 0x551ee0 0x54e4c8 0x54f4f6 0x553aaf 0x54e4c8\n",
            "\u001b[?25hCollecting gym\n",
            "\u001b[?25l  Downloading https://files.pythonhosted.org/packages/9b/50/ed4a03d2be47ffd043be2ee514f329ce45d98a30fe2d1b9c61dea5a9d861/gym-0.10.5.tar.gz (1.5MB)\n",
            "\u001b[K    100% |████████████████████████████████| 1.5MB 23.3MB/s \n",
            "\u001b[?25hRequirement already satisfied: numpy>=1.10.4 in /usr/local/lib/python3.6/dist-packages (from gym) (1.14.3)\n",
            "Requirement already satisfied: requests>=2.0 in /usr/local/lib/python3.6/dist-packages (from gym) (2.18.4)\n",
            "Requirement already satisfied: six in /usr/local/lib/python3.6/dist-packages (from gym) (1.11.0)\n",
            "Collecting pyglet>=1.2.0 (from gym)\n",
            "\u001b[?25l  Downloading https://files.pythonhosted.org/packages/1c/fc/dad5eaaab68f0c21e2f906a94ddb98175662cc5a654eee404d59554ce0fa/pyglet-1.3.2-py2.py3-none-any.whl (1.0MB)\n",
            "\u001b[K    100% |████████████████████████████████| 1.0MB 21.0MB/s \n",
            "\u001b[?25hRequirement already satisfied: certifi>=2017.4.17 in /usr/local/lib/python3.6/dist-packages (from requests>=2.0->gym) (2018.4.16)\n",
            "Requirement already satisfied: idna<2.7,>=2.5 in /usr/local/lib/python3.6/dist-packages (from requests>=2.0->gym) (2.6)\n",
            "Requirement already satisfied: urllib3<1.23,>=1.21.1 in /usr/local/lib/python3.6/dist-packages (from requests>=2.0->gym) (1.22)\n",
            "Requirement already satisfied: chardet<3.1.0,>=3.0.2 in /usr/local/lib/python3.6/dist-packages (from requests>=2.0->gym) (3.0.4)\n",
            "Requirement already satisfied: future in /usr/local/lib/python3.6/dist-packages (from pyglet>=1.2.0->gym) (0.16.0)\n",
            "Building wheels for collected packages: gym\n",
            "  Running setup.py bdist_wheel for gym ... \u001b[?25l-\b \b\\\b \b|\b \b/\b \bdone\n",
            "\u001b[?25h  Stored in directory: /content/.cache/pip/wheels/cb/14/71/f4ab006b1e6ff75c2b54985c2f98d0644fffe9c1dddc670925\n",
            "Successfully built gym\n",
            "Installing collected packages: torch, pyglet, gym\n",
            "Successfully installed gym-0.10.5 pyglet-1.3.2 torch-0.4.0\n"
          ],
          "name": "stdout"
        }
      ]
    },
    {
      "metadata": {
        "id": "Bxox7xF75_w7",
        "colab_type": "code",
        "colab": {
          "base_uri": "https://localhost:8080/",
          "height": 37
        },
        "outputId": "48e184fd-6d16-486b-85da-8c5300cb48e4"
      },
      "cell_type": "code",
      "source": [
        "import torch\n",
        "import torch.nn as nn\n",
        "from torch.autograd import Variable\n",
        "import torch.nn.functional as F\n",
        "import numpy as np\n",
        "import gym"
      ],
      "execution_count": 2,
      "outputs": []
    },
    {
      "metadata": {
        "id": "A4Q2j7wO6Dyd",
        "colab_type": "code",
        "colab": {
          "base_uri": "https://localhost:8080/",
          "height": 37
        },
        "outputId": "bc8bd64f-f637-4f28-ef63-7a7170a95a26"
      },
      "cell_type": "code",
      "source": [
        "BATCH_SIZE = 32 # batch 크기\n",
        "LR = 0.01 # learning rate\n",
        "EPSILON = 0.9  # greedy policy\n",
        "GAMMA = 0.9  # discount factor\n",
        "TARGET_REPLACE_ITER = 100   # target update frequency\n",
        "MEMORY_CAPACITY = 2000\n"
      ],
      "execution_count": 3,
      "outputs": []
    },
    {
      "metadata": {
        "id": "W-ccHNcj64Um",
        "colab_type": "text"
      },
      "cell_type": "markdown",
      "source": [
        "## openAI 의 gym 패키지\n",
        "\n",
        "강화학습 환경을 쉽게 구현해주는 패키지.\n",
        "\n",
        "### Wrappers\n",
        "enviroment 를 modular way로 변형\n",
        "self.unwrapped : access the inner enviroment"
      ]
    },
    {
      "metadata": {
        "id": "5ziVvUkj6Wrs",
        "colab_type": "code",
        "colab": {
          "base_uri": "https://localhost:8080/",
          "height": 54
        },
        "outputId": "6a2b169b-4fbf-498d-ed09-255f8030ae59"
      },
      "cell_type": "code",
      "source": [
        "env = gym.make('CartPole-v0') # <TimeLimit<CartPoleEnv<CartPole-v0>>>\n",
        "env = env.unwrapped # gym.envs.classic_control.cartpole.CartPoleEnv\n",
        "N_ACTIONS = env.action_space.n # action space 2torch.unsqueeze(torch.FloatTensor(x), 0)\n",
        "N_STATES = env.observation_space.shape[0] # 4\n",
        "# http://daeson.tistory.com/311\n",
        "# http://jaynewho.com/post/10\n",
        "# https://github.com/openai/gym/tree/b9ef43cb387a93af9728b0fc06cb1723f71bc497/gym/wrappers\n",
        "# "
      ],
      "execution_count": 4,
      "outputs": [
        {
          "output_type": "stream",
          "text": [
            "\u001b[33mWARN: gym.spaces.Box autodetected dtype as <class 'numpy.float32'>. Please provide explicit dtype.\u001b[0m\n"
          ],
          "name": "stdout"
        }
      ]
    },
    {
      "metadata": {
        "id": "LKQpuNDD-yoM",
        "colab_type": "text"
      },
      "cell_type": "markdown",
      "source": [
        "## torch.squeeze(input, dim=None, out=None) -> Tensor\n",
        "* 차원에서 1size가 제거됨.\n",
        "* ex) (A,1,B,C) -> (A,B,C)\n",
        "* dim이 주어지면, 주어진 dimension에서만 squeeze 함.\n",
        "\n",
        "## torch.unsqueeze(input, dim,out=None) -> tensor\n",
        "* Returns a new tensor with a dimension of size one inserted at the specified position."
      ]
    },
    {
      "metadata": {
        "id": "Bcv9Wpd2-x5m",
        "colab_type": "code",
        "colab": {}
      },
      "cell_type": "code",
      "source": [
        ""
      ],
      "execution_count": 0,
      "outputs": []
    },
    {
      "metadata": {
        "id": "kSicIFWN7m0A",
        "colab_type": "code",
        "colab": {
          "base_uri": "https://localhost:8080/",
          "height": 34
        },
        "outputId": "5e611752-5178-4c47-b974-478f58ddc8ec"
      },
      "cell_type": "code",
      "source": [
        "torch.unsqueeze(torch.FloatTensor([1,1]), 0)"
      ],
      "execution_count": 17,
      "outputs": [
        {
          "output_type": "execute_result",
          "data": {
            "text/plain": [
              "tensor([[ 1.,  1.]])"
            ]
          },
          "metadata": {
            "tags": []
          },
          "execution_count": 17
        }
      ]
    },
    {
      "metadata": {
        "id": "fq1Fz_T0-MWl",
        "colab_type": "code",
        "colab": {
          "base_uri": "https://localhost:8080/",
          "height": 17
        },
        "outputId": "7a6d255e-fa61-4760-b9ad-37b28291b384"
      },
      "cell_type": "code",
      "source": [
        "class Net(nn.Module):\n",
        "  def __init__(self,):\n",
        "    super(Net, self).__init__()\n",
        "    self.fc1 = nn.Linear(N_STATES,10)  \n",
        "    self.fc1.weight.data.normal_(0,)\n",
        "    self.out = nn.Linear(10,N_ACTIONS) # action 2  가지 방향\n",
        "    self.out.weight.data.normal_(0,0.1)\n",
        "    \n",
        "  def forward(self,x):\n",
        "    x.self.fc1(x)\n",
        "    x = self.fc1(x)\n",
        "    x = F.relu(x)\n",
        "    actions_value = self.out(x)\n",
        "    return actions_value"
      ],
      "execution_count": 5,
      "outputs": []
    },
    {
      "metadata": {
        "id": "21v8C0MZ9Ch0",
        "colab_type": "code",
        "colab": {}
      },
      "cell_type": "code",
      "source": [
        "class DQN(object):\n",
        "    def __init__(self):\n",
        "        self.eval_net, self.target_net = Net(), Net()\n",
        "\n",
        "        self.learn_step_counter = 0                                     # for target updating\n",
        "        self.memory_counter = 0                                         # for storing memory\n",
        "        self.memory = np.zeros((MEMORY_CAPACITY, N_STATES * 2 + 2))     # initialize memory # 2000*10 why 10?\n",
        "        self.optimizer = torch.optim.Adam(self.eval_net.parameters(), lr=LR) # optimizer는 아담을 사용함\n",
        "        self.loss_func = nn.MSELoss() # loss function은 그냥 MSE\n",
        "\n",
        "    def choose_action(self, x):\n",
        "        x = Variable(torch.unsqueeze(torch.FloatTensor(x), 0)) # x를 받아서 맨처음에 size 1차원을 왜 늘리지?\n",
        "        # input only one sample\n",
        "        if np.random.uniform() < EPSILON:   # greedy # random 0 ~ 1뽑아서 그게 epsilon 보다 작으면,\n",
        "            actions_value = self.eval_net.forward(x) # x를 뉴럴 넷에 넣고 action value값을 받음.\n",
        "            action = torch.max(actions_value, 1)[1].data.numpy()[0, 0]     # return the argmax\n",
        "        else:   # random\n",
        "            action = np.random.randint(0, N_ACTIONS) # 1 - epsilon 확률로 랜덤하게 움직인다.\n",
        "        return action\n",
        "\n"
      ],
      "execution_count": 0,
      "outputs": []
    },
    {
      "metadata": {
        "id": "nOpHKk7fBG-T",
        "colab_type": "code",
        "colab": {}
      },
      "cell_type": "code",
      "source": [
        "dqn = DQN()"
      ],
      "execution_count": 0,
      "outputs": []
    },
    {
      "metadata": {
        "id": "hYzTbrE2BK0U",
        "colab_type": "code",
        "colab": {}
      },
      "cell_type": "code",
      "source": [
        "print('\\nCollecting experience...')\n",
        "for i_episode in range(400): # episode 는 400번\n",
        "    s = env.reset() # env 초기화\n",
        "    ep_r = 0\n",
        "    while True:\n",
        "        env.render()\n",
        "        a = dqn.choose_action(s) # action 값을 선택함 deep neural network + epsilon greedy 방식 에 따라서\n",
        "\n",
        "        # take action\n",
        "        s_, r, done, info = env.step(a) # a를 넣으면 \n"
      ],
      "execution_count": 0,
      "outputs": []
    }
  ]
}
